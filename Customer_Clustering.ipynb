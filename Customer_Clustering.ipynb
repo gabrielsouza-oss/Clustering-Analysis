{
  "nbformat": 4,
  "nbformat_minor": 0,
  "metadata": {
    "colab": {
      "name": "Customer Clustering.ipynb",
      "provenance": [],
      "collapsed_sections": [
        "GswBCTV2Lird"
      ]
    },
    "kernelspec": {
      "name": "python3",
      "display_name": "Python 3"
    }
  },
  "cells": [
    {
      "cell_type": "code",
      "metadata": {
        "id": "1VkADF5kdlzo",
        "colab_type": "code",
        "colab": {}
      },
      "source": [
        "import numpy as np\n",
        "import sys\n",
        "from scipy import linalg\n",
        "from pylab import *\n",
        "from random import randrange\n",
        "import pandas as pd\n",
        "import matplotlib\n",
        "pd.options.display.max_columns = None\n",
        "from sklearn.decomposition import PCA"
      ],
      "execution_count": 350,
      "outputs": []
    },
    {
      "cell_type": "markdown",
      "metadata": {
        "id": "k-OkcX9DevOQ",
        "colab_type": "text"
      },
      "source": [
        "# **Reading Data For Customer Clustering**\n"
      ]
    },
    {
      "cell_type": "code",
      "metadata": {
        "id": "R62eKN8Ae2Cp",
        "colab_type": "code",
        "colab": {
          "base_uri": "https://localhost:8080/",
          "height": 419
        },
        "outputId": "78810516-6074-4210-ab3f-b059fbe941ee"
      },
      "source": [
        "df = pd.read_excel(\"Clustering_data.xlsx\")\n",
        "df"
      ],
      "execution_count": 351,
      "outputs": [
        {
          "output_type": "execute_result",
          "data": {
            "text/html": [
              "<div>\n",
              "<style scoped>\n",
              "    .dataframe tbody tr th:only-of-type {\n",
              "        vertical-align: middle;\n",
              "    }\n",
              "\n",
              "    .dataframe tbody tr th {\n",
              "        vertical-align: top;\n",
              "    }\n",
              "\n",
              "    .dataframe thead th {\n",
              "        text-align: right;\n",
              "    }\n",
              "</style>\n",
              "<table border=\"1\" class=\"dataframe\">\n",
              "  <thead>\n",
              "    <tr style=\"text-align: right;\">\n",
              "      <th></th>\n",
              "      <th>Income (in $10,000s)</th>\n",
              "      <th>Average Purchase (in $100s)</th>\n",
              "      <th>Last year purchases</th>\n",
              "      <th>Number of Dependents</th>\n",
              "    </tr>\n",
              "  </thead>\n",
              "  <tbody>\n",
              "    <tr>\n",
              "      <th>0</th>\n",
              "      <td>7.8</td>\n",
              "      <td>1.59</td>\n",
              "      <td>5</td>\n",
              "      <td>0</td>\n",
              "    </tr>\n",
              "    <tr>\n",
              "      <th>1</th>\n",
              "      <td>1.1</td>\n",
              "      <td>0.63</td>\n",
              "      <td>1</td>\n",
              "      <td>0</td>\n",
              "    </tr>\n",
              "    <tr>\n",
              "      <th>2</th>\n",
              "      <td>7.2</td>\n",
              "      <td>1.03</td>\n",
              "      <td>6</td>\n",
              "      <td>2</td>\n",
              "    </tr>\n",
              "    <tr>\n",
              "      <th>3</th>\n",
              "      <td>8.0</td>\n",
              "      <td>1.43</td>\n",
              "      <td>5</td>\n",
              "      <td>1</td>\n",
              "    </tr>\n",
              "    <tr>\n",
              "      <th>4</th>\n",
              "      <td>1.0</td>\n",
              "      <td>0.35</td>\n",
              "      <td>2</td>\n",
              "      <td>0</td>\n",
              "    </tr>\n",
              "    <tr>\n",
              "      <th>...</th>\n",
              "      <td>...</td>\n",
              "      <td>...</td>\n",
              "      <td>...</td>\n",
              "      <td>...</td>\n",
              "    </tr>\n",
              "    <tr>\n",
              "      <th>295</th>\n",
              "      <td>1.4</td>\n",
              "      <td>0.74</td>\n",
              "      <td>2</td>\n",
              "      <td>0</td>\n",
              "    </tr>\n",
              "    <tr>\n",
              "      <th>296</th>\n",
              "      <td>3.0</td>\n",
              "      <td>0.53</td>\n",
              "      <td>5</td>\n",
              "      <td>3</td>\n",
              "    </tr>\n",
              "    <tr>\n",
              "      <th>297</th>\n",
              "      <td>9.6</td>\n",
              "      <td>1.00</td>\n",
              "      <td>9</td>\n",
              "      <td>1</td>\n",
              "    </tr>\n",
              "    <tr>\n",
              "      <th>298</th>\n",
              "      <td>0.8</td>\n",
              "      <td>0.38</td>\n",
              "      <td>1</td>\n",
              "      <td>0</td>\n",
              "    </tr>\n",
              "    <tr>\n",
              "      <th>299</th>\n",
              "      <td>1.3</td>\n",
              "      <td>0.31</td>\n",
              "      <td>2</td>\n",
              "      <td>0</td>\n",
              "    </tr>\n",
              "  </tbody>\n",
              "</table>\n",
              "<p>300 rows × 4 columns</p>\n",
              "</div>"
            ],
            "text/plain": [
              "     Income (in $10,000s)   Average Purchase (in $100s)  Last year purchases  \\\n",
              "0                     7.8                          1.59                    5   \n",
              "1                     1.1                          0.63                    1   \n",
              "2                     7.2                          1.03                    6   \n",
              "3                     8.0                          1.43                    5   \n",
              "4                     1.0                          0.35                    2   \n",
              "..                    ...                           ...                  ...   \n",
              "295                   1.4                          0.74                    2   \n",
              "296                   3.0                          0.53                    5   \n",
              "297                   9.6                          1.00                    9   \n",
              "298                   0.8                          0.38                    1   \n",
              "299                   1.3                          0.31                    2   \n",
              "\n",
              "     Number of Dependents  \n",
              "0                       0  \n",
              "1                       0  \n",
              "2                       2  \n",
              "3                       1  \n",
              "4                       0  \n",
              "..                    ...  \n",
              "295                     0  \n",
              "296                     3  \n",
              "297                     1  \n",
              "298                     0  \n",
              "299                     0  \n",
              "\n",
              "[300 rows x 4 columns]"
            ]
          },
          "metadata": {
            "tags": []
          },
          "execution_count": 351
        }
      ]
    },
    {
      "cell_type": "markdown",
      "metadata": {
        "id": "_7vBCPpTe70y",
        "colab_type": "text"
      },
      "source": [
        "# **Nomalizing Data**"
      ]
    },
    {
      "cell_type": "code",
      "metadata": {
        "id": "WLUUXdsxe-bS",
        "colab_type": "code",
        "colab": {
          "base_uri": "https://localhost:8080/",
          "height": 419
        },
        "outputId": "77ae5433-02f4-4802-d25c-da45ca06d2e2"
      },
      "source": [
        "#Creating normalized Dataframe\n",
        "df_norm = pd.DataFrame(data = [] , index = np.arange(0,len(df)), columns = [df.columns.values])\n",
        "\n",
        "#Normalizing Data\n",
        "for i in range(0, len(df.columns)):\n",
        "  column_norm = ( df.iloc[:,i]- mean(df.iloc[:,i]) ) / std(df.iloc[:,i]) \n",
        "  df_norm.iloc[:,i] = column_norm\n",
        "\n",
        "df_norm"
      ],
      "execution_count": 271,
      "outputs": [
        {
          "output_type": "execute_result",
          "data": {
            "text/html": [
              "<div>\n",
              "<style scoped>\n",
              "    .dataframe tbody tr th:only-of-type {\n",
              "        vertical-align: middle;\n",
              "    }\n",
              "\n",
              "    .dataframe tbody tr th {\n",
              "        vertical-align: top;\n",
              "    }\n",
              "\n",
              "    .dataframe thead tr th {\n",
              "        text-align: left;\n",
              "    }\n",
              "</style>\n",
              "<table border=\"1\" class=\"dataframe\">\n",
              "  <thead>\n",
              "    <tr>\n",
              "      <th></th>\n",
              "      <th>Income (in $10,000s)</th>\n",
              "      <th>Average Purchase (in $100s)</th>\n",
              "      <th>Last year purchases</th>\n",
              "      <th>Number of Dependents</th>\n",
              "    </tr>\n",
              "  </thead>\n",
              "  <tbody>\n",
              "    <tr>\n",
              "      <th>0</th>\n",
              "      <td>1.182523</td>\n",
              "      <td>1.204336</td>\n",
              "      <td>0.233657</td>\n",
              "      <td>-0.957114</td>\n",
              "    </tr>\n",
              "    <tr>\n",
              "      <th>1</th>\n",
              "      <td>-1.175017</td>\n",
              "      <td>-0.767180</td>\n",
              "      <td>-1.425444</td>\n",
              "      <td>-0.957114</td>\n",
              "    </tr>\n",
              "    <tr>\n",
              "      <th>2</th>\n",
              "      <td>0.971400</td>\n",
              "      <td>0.054285</td>\n",
              "      <td>0.648432</td>\n",
              "      <td>0.976449</td>\n",
              "    </tr>\n",
              "    <tr>\n",
              "      <th>3</th>\n",
              "      <td>1.252898</td>\n",
              "      <td>0.875750</td>\n",
              "      <td>0.233657</td>\n",
              "      <td>0.009668</td>\n",
              "    </tr>\n",
              "    <tr>\n",
              "      <th>4</th>\n",
              "      <td>-1.210204</td>\n",
              "      <td>-1.342205</td>\n",
              "      <td>-1.010669</td>\n",
              "      <td>-0.957114</td>\n",
              "    </tr>\n",
              "    <tr>\n",
              "      <th>...</th>\n",
              "      <td>...</td>\n",
              "      <td>...</td>\n",
              "      <td>...</td>\n",
              "      <td>...</td>\n",
              "    </tr>\n",
              "    <tr>\n",
              "      <th>295</th>\n",
              "      <td>-1.069455</td>\n",
              "      <td>-0.541277</td>\n",
              "      <td>-1.010669</td>\n",
              "      <td>-0.957114</td>\n",
              "    </tr>\n",
              "    <tr>\n",
              "      <th>296</th>\n",
              "      <td>-0.506461</td>\n",
              "      <td>-0.972546</td>\n",
              "      <td>0.233657</td>\n",
              "      <td>1.943231</td>\n",
              "    </tr>\n",
              "    <tr>\n",
              "      <th>297</th>\n",
              "      <td>1.815892</td>\n",
              "      <td>-0.007325</td>\n",
              "      <td>1.892757</td>\n",
              "      <td>0.009668</td>\n",
              "    </tr>\n",
              "    <tr>\n",
              "      <th>298</th>\n",
              "      <td>-1.280578</td>\n",
              "      <td>-1.280596</td>\n",
              "      <td>-1.425444</td>\n",
              "      <td>-0.957114</td>\n",
              "    </tr>\n",
              "    <tr>\n",
              "      <th>299</th>\n",
              "      <td>-1.104642</td>\n",
              "      <td>-1.424352</td>\n",
              "      <td>-1.010669</td>\n",
              "      <td>-0.957114</td>\n",
              "    </tr>\n",
              "  </tbody>\n",
              "</table>\n",
              "<p>300 rows × 4 columns</p>\n",
              "</div>"
            ],
            "text/plain": [
              "    Income (in $10,000s)  Average Purchase (in $100s) Last year purchases  \\\n",
              "0               1.182523                     1.204336            0.233657   \n",
              "1              -1.175017                    -0.767180           -1.425444   \n",
              "2               0.971400                     0.054285            0.648432   \n",
              "3               1.252898                     0.875750            0.233657   \n",
              "4              -1.210204                    -1.342205           -1.010669   \n",
              "..                   ...                          ...                 ...   \n",
              "295            -1.069455                    -0.541277           -1.010669   \n",
              "296            -0.506461                    -0.972546            0.233657   \n",
              "297             1.815892                    -0.007325            1.892757   \n",
              "298            -1.280578                    -1.280596           -1.425444   \n",
              "299            -1.104642                    -1.424352           -1.010669   \n",
              "\n",
              "    Number of Dependents  \n",
              "0              -0.957114  \n",
              "1              -0.957114  \n",
              "2               0.976449  \n",
              "3               0.009668  \n",
              "4              -0.957114  \n",
              "..                   ...  \n",
              "295            -0.957114  \n",
              "296             1.943231  \n",
              "297             0.009668  \n",
              "298            -0.957114  \n",
              "299            -0.957114  \n",
              "\n",
              "[300 rows x 4 columns]"
            ]
          },
          "metadata": {
            "tags": []
          },
          "execution_count": 271
        }
      ]
    },
    {
      "cell_type": "markdown",
      "metadata": {
        "id": "RcXDwtakolbu",
        "colab_type": "text"
      },
      "source": [
        "# **Finding Best Clustering Centroids**"
      ]
    },
    {
      "cell_type": "markdown",
      "metadata": {
        "id": "GswBCTV2Lird",
        "colab_type": "text"
      },
      "source": [
        "# **Ideal Solution for this DataFrame**"
      ]
    },
    {
      "cell_type": "code",
      "metadata": {
        "id": "crEa4Rn9IlMN",
        "colab_type": "code",
        "colab": {
          "base_uri": "https://localhost:8080/",
          "height": 142
        },
        "outputId": "7940eda7-e1a1-4d43-ee77-f26d25dd7093"
      },
      "source": [
        "#Ideal Solution for System\n",
        "lista = [102,111,169]\n",
        "centroids = pd.DataFrame(data = [] , index = lista, columns = [df.columns.values])\n",
        "\n",
        "for i in range(0, 3):\n",
        "  centroids.iloc[i,:] = df_norm.iloc[lista[i],:]\n",
        "centroids"
      ],
      "execution_count": 346,
      "outputs": [
        {
          "output_type": "execute_result",
          "data": {
            "text/html": [
              "<div>\n",
              "<style scoped>\n",
              "    .dataframe tbody tr th:only-of-type {\n",
              "        vertical-align: middle;\n",
              "    }\n",
              "\n",
              "    .dataframe tbody tr th {\n",
              "        vertical-align: top;\n",
              "    }\n",
              "\n",
              "    .dataframe thead tr th {\n",
              "        text-align: left;\n",
              "    }\n",
              "</style>\n",
              "<table border=\"1\" class=\"dataframe\">\n",
              "  <thead>\n",
              "    <tr>\n",
              "      <th></th>\n",
              "      <th>Income (in $10,000s)</th>\n",
              "      <th>Average Purchase (in $100s)</th>\n",
              "      <th>Last year purchases</th>\n",
              "      <th>Number of Dependents</th>\n",
              "    </tr>\n",
              "  </thead>\n",
              "  <tbody>\n",
              "    <tr>\n",
              "      <th>102</th>\n",
              "      <td>-1.24539</td>\n",
              "      <td>-1.07523</td>\n",
              "      <td>-1.01067</td>\n",
              "      <td>-0.957114</td>\n",
              "    </tr>\n",
              "    <tr>\n",
              "      <th>111</th>\n",
              "      <td>1.07696</td>\n",
              "      <td>1.01951</td>\n",
              "      <td>1.06321</td>\n",
              "      <td>0.00966782</td>\n",
              "    </tr>\n",
              "    <tr>\n",
              "      <th>169</th>\n",
              "      <td>0.197283</td>\n",
              "      <td>-0.00732473</td>\n",
              "      <td>0.233657</td>\n",
              "      <td>0.976449</td>\n",
              "    </tr>\n",
              "  </tbody>\n",
              "</table>\n",
              "</div>"
            ],
            "text/plain": [
              "    Income (in $10,000s)  Average Purchase (in $100s) Last year purchases  \\\n",
              "102             -1.24539                     -1.07523            -1.01067   \n",
              "111              1.07696                      1.01951             1.06321   \n",
              "169             0.197283                  -0.00732473            0.233657   \n",
              "\n",
              "    Number of Dependents  \n",
              "102            -0.957114  \n",
              "111           0.00966782  \n",
              "169             0.976449  "
            ]
          },
          "metadata": {
            "tags": []
          },
          "execution_count": 346
        }
      ]
    },
    {
      "cell_type": "markdown",
      "metadata": {
        "colab_type": "text",
        "id": "jDJVfTZaLvSU"
      },
      "source": [
        "# **Finding Best Clustering Centroids**"
      ]
    },
    {
      "cell_type": "code",
      "metadata": {
        "id": "I22gbfeNo7FB",
        "colab_type": "code",
        "colab": {}
      },
      "source": [
        "##Hypotesis of 3 Clusters\n",
        "\n",
        "number_clusters = 3\n",
        "\n",
        "## Generating Random Clusters\n",
        "def Generate_Clusters():\n",
        "  iterations = []\n",
        "\n",
        "  for i in range (0,number_clusters):\n",
        "    iteration = randrange(0,len(df)+1)\n",
        "    iterations.append(iteration)\n",
        "\n",
        "  centroids = pd.DataFrame(data = [] , index = iterations, columns = [df.columns.values])\n",
        "\n",
        "  #Defining number_clusters  Centroids\n",
        "  for i in range(0, number_clusters):\n",
        "    centroids.iloc[i,:] = df_norm.iloc[iterations[i],:]\n",
        "  print(centroids)\n",
        "  return centroids"
      ],
      "execution_count": 334,
      "outputs": []
    },
    {
      "cell_type": "code",
      "metadata": {
        "id": "3M55lOZyt_lL",
        "colab_type": "code",
        "colab": {}
      },
      "source": [
        "#Calculating Square Distance between normalized data and Centroids\n",
        "\n",
        "def Calc_Dist (centroids):\n",
        "  df_distances = pd.DataFrame(data = [] , index = np.arange(0,len(df)), columns = [\"Distance Centroid 1\",\"Distance Centroid 2\",\"Distance Centroid 3\",\"Minimun Distance\",\"Cluster Aligment\"])\n",
        "\n",
        "  for k in range (0,number_clusters):\n",
        "    distances = []\n",
        "\n",
        "    for j in range (0, len(df)):\n",
        "      distance_1 = 0  \n",
        "      for i in range(0, len(df.columns)):\n",
        "        distance_1 = distance_1 + (df_norm.iloc[j,i] - centroids.iloc[k,i])**2\n",
        "      distances.append(distance_1)\n",
        "\n",
        "    df_distances.iloc[:,k] = distances\n",
        "\n",
        "  # Determinating Minimun Distace Between Data and Clusters\n",
        "  for i in range (0,len(df)):\n",
        "    df_distances.iloc[i,number_clusters] = min(df_distances.iloc[i,:])\n",
        "  \n",
        "  # Determinating Cluster Assigment\n",
        "  for i in range (0,len(df)):\n",
        "    if (df_distances.iloc[i,number_clusters] == df_distances.iloc[i,0]):\n",
        "      df_distances.iloc[i,4] = 1\n",
        "    elif (df_distances.iloc[i,number_clusters] == df_distances.iloc[i,1]):\n",
        "      df_distances.iloc[i,4] = 2\n",
        "    else:\n",
        "       df_distances.iloc[i,4] = 3\n",
        "\n",
        "  return df_distances"
      ],
      "execution_count": 335,
      "outputs": []
    },
    {
      "cell_type": "code",
      "metadata": {
        "id": "XUBlL0fpzLeE",
        "colab_type": "code",
        "colab": {
          "base_uri": "https://localhost:8080/",
          "height": 436
        },
        "outputId": "00fc070b-3c53-4a4c-86e9-c0f85325d037"
      },
      "source": [
        "# Calculando Distancia e Distancia Total com os 3 centroides escolhidos\n",
        "\n",
        "centroids = Generate_Clusters()\n",
        "df_distancias_final = Calc_Dist(centroids)\n",
        "Total_Dist = sum(df_distancias_final[\"Minimun Distance\"])\n",
        "\n",
        "print(\"Total Distance\",Total_Dist)\n",
        "df_distancias_final"
      ],
      "execution_count": 347,
      "outputs": [
        {
          "output_type": "stream",
          "text": [
            "Total Distance 292.8931973338921\n"
          ],
          "name": "stdout"
        },
        {
          "output_type": "execute_result",
          "data": {
            "text/html": [
              "<div>\n",
              "<style scoped>\n",
              "    .dataframe tbody tr th:only-of-type {\n",
              "        vertical-align: middle;\n",
              "    }\n",
              "\n",
              "    .dataframe tbody tr th {\n",
              "        vertical-align: top;\n",
              "    }\n",
              "\n",
              "    .dataframe thead th {\n",
              "        text-align: right;\n",
              "    }\n",
              "</style>\n",
              "<table border=\"1\" class=\"dataframe\">\n",
              "  <thead>\n",
              "    <tr style=\"text-align: right;\">\n",
              "      <th></th>\n",
              "      <th>Distance Centroid 1</th>\n",
              "      <th>Distance Centroid 2</th>\n",
              "      <th>Distance Centroid 3</th>\n",
              "      <th>Minimun Distance</th>\n",
              "      <th>Cluster Aligment</th>\n",
              "    </tr>\n",
              "  </thead>\n",
              "  <tbody>\n",
              "    <tr>\n",
              "      <th>0</th>\n",
              "      <td>12.639533</td>\n",
              "      <td>1.668126</td>\n",
              "      <td>6.177488</td>\n",
              "      <td>1.66813</td>\n",
              "      <td>2</td>\n",
              "    </tr>\n",
              "    <tr>\n",
              "      <th>1</th>\n",
              "      <td>0.271885</td>\n",
              "      <td>15.391706</td>\n",
              "      <td>8.951867</td>\n",
              "      <td>0.271885</td>\n",
              "      <td>1</td>\n",
              "    </tr>\n",
              "    <tr>\n",
              "      <th>2</th>\n",
              "      <td>12.681249</td>\n",
              "      <td>2.049501</td>\n",
              "      <td>0.775092</td>\n",
              "      <td>0.775092</td>\n",
              "      <td>3</td>\n",
              "    </tr>\n",
              "    <tr>\n",
              "      <th>3</th>\n",
              "      <td>12.530780</td>\n",
              "      <td>0.739773</td>\n",
              "      <td>2.828811</td>\n",
              "      <td>0.739773</td>\n",
              "      <td>2</td>\n",
              "    </tr>\n",
              "    <tr>\n",
              "      <th>4</th>\n",
              "      <td>0.072514</td>\n",
              "      <td>16.044438</td>\n",
              "      <td>9.049938</td>\n",
              "      <td>0.0725144</td>\n",
              "      <td>1</td>\n",
              "    </tr>\n",
              "    <tr>\n",
              "      <th>...</th>\n",
              "      <td>...</td>\n",
              "      <td>...</td>\n",
              "      <td>...</td>\n",
              "      <td>...</td>\n",
              "      <td>...</td>\n",
              "    </tr>\n",
              "    <tr>\n",
              "      <th>295</th>\n",
              "      <td>0.316058</td>\n",
              "      <td>12.278779</td>\n",
              "      <td>7.176743</td>\n",
              "      <td>0.316058</td>\n",
              "      <td>1</td>\n",
              "    </tr>\n",
              "    <tr>\n",
              "      <th>296</th>\n",
              "      <td>10.516909</td>\n",
              "      <td>10.902321</td>\n",
              "      <td>2.361574</td>\n",
              "      <td>2.36157</td>\n",
              "      <td>3</td>\n",
              "    </tr>\n",
              "    <tr>\n",
              "      <th>297</th>\n",
              "      <td>19.876425</td>\n",
              "      <td>2.288554</td>\n",
              "      <td>6.307178</td>\n",
              "      <td>2.28855</td>\n",
              "      <td>2</td>\n",
              "    </tr>\n",
              "    <tr>\n",
              "      <th>298</th>\n",
              "      <td>0.215452</td>\n",
              "      <td>17.976514</td>\n",
              "      <td>10.296573</td>\n",
              "      <td>0.215452</td>\n",
              "      <td>1</td>\n",
              "    </tr>\n",
              "    <tr>\n",
              "      <th>299</th>\n",
              "      <td>0.141697</td>\n",
              "      <td>15.967468</td>\n",
              "      <td>8.989988</td>\n",
              "      <td>0.141697</td>\n",
              "      <td>1</td>\n",
              "    </tr>\n",
              "  </tbody>\n",
              "</table>\n",
              "<p>300 rows × 5 columns</p>\n",
              "</div>"
            ],
            "text/plain": [
              "     Distance Centroid 1  Distance Centroid 2  Distance Centroid 3  \\\n",
              "0              12.639533             1.668126             6.177488   \n",
              "1               0.271885            15.391706             8.951867   \n",
              "2              12.681249             2.049501             0.775092   \n",
              "3              12.530780             0.739773             2.828811   \n",
              "4               0.072514            16.044438             9.049938   \n",
              "..                   ...                  ...                  ...   \n",
              "295             0.316058            12.278779             7.176743   \n",
              "296            10.516909            10.902321             2.361574   \n",
              "297            19.876425             2.288554             6.307178   \n",
              "298             0.215452            17.976514            10.296573   \n",
              "299             0.141697            15.967468             8.989988   \n",
              "\n",
              "    Minimun Distance Cluster Aligment  \n",
              "0            1.66813                2  \n",
              "1           0.271885                1  \n",
              "2           0.775092                3  \n",
              "3           0.739773                2  \n",
              "4          0.0725144                1  \n",
              "..               ...              ...  \n",
              "295         0.316058                1  \n",
              "296          2.36157                3  \n",
              "297          2.28855                2  \n",
              "298         0.215452                1  \n",
              "299         0.141697                1  \n",
              "\n",
              "[300 rows x 5 columns]"
            ]
          },
          "metadata": {
            "tags": []
          },
          "execution_count": 347
        }
      ]
    },
    {
      "cell_type": "markdown",
      "metadata": {
        "colab_type": "text",
        "id": "P4T7qg-lE-ZF"
      },
      "source": [
        "# **Dimensional Reduction (PCA)**"
      ]
    },
    {
      "cell_type": "code",
      "metadata": {
        "id": "mYT-8HmiFLE4",
        "colab_type": "code",
        "colab": {
          "base_uri": "https://localhost:8080/",
          "height": 282
        },
        "outputId": "a60dd548-8a6f-44b4-efab-8d25cb3a01a9"
      },
      "source": [
        "pca = PCA(n_components=2).fit(df)\n",
        "pca_2d = pca.transform(df)\n",
        "scatter(pca_2d[:,0],pca_2d[:,1])"
      ],
      "execution_count": 348,
      "outputs": [
        {
          "output_type": "execute_result",
          "data": {
            "text/plain": [
              "<matplotlib.collections.PathCollection at 0x7f8609444c88>"
            ]
          },
          "metadata": {
            "tags": []
          },
          "execution_count": 348
        },
        {
          "output_type": "display_data",
          "data": {
            "image/png": "[encoded data removed]",
            "text/plain": [
              "<Figure size 432x288 with 1 Axes>"
            ]
          },
          "metadata": {
            "tags": [],
            "needs_background": "light"
          }
        }
      ]
    },
    {
      "cell_type": "code",
      "metadata": {
        "id": "OK_5peXpHIZ4",
        "colab_type": "code",
        "colab": {
          "base_uri": "https://localhost:8080/",
          "height": 265
        },
        "outputId": "14ffc6be-4ed2-472d-8369-ac620ac54b7d"
      },
      "source": [
        "## Clustering Plot View\n",
        "\n",
        "for i in range(0, pca_2d.shape[0]):\n",
        "  if df_distancias_final.iloc[i,4] == 1:\n",
        "    c1 = pl.scatter(pca_2d[i,0],pca_2d[i,1],c='r',marker='+')\n",
        "  elif df_distancias_final.iloc[i,4] == 2:\n",
        "    c2 = pl.scatter(pca_2d[i,0],pca_2d[i,1],c='g',marker='o')\n",
        "  elif df_distancias_final.iloc[i,4] == 3:\n",
        "    c3 = pl.scatter(pca_2d[i,0],pca_2d[i,1],c='b',marker='*')\n",
        "\n",
        "pl.show()"
      ],
      "execution_count": 349,
      "outputs": [
        {
          "output_type": "display_data",
          "data": {
            "image/png": "[encoded data removed]",
            "text/plain": [
              "<Figure size 432x288 with 1 Axes>"
            ]
          },
          "metadata": {
            "tags": [],
            "needs_background": "light"
          }
        }
      ]
    }
  ]
}